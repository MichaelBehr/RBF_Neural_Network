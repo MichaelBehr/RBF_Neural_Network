{
 "cells": [
  {
   "cell_type": "code",
   "execution_count": 2,
   "metadata": {},
   "outputs": [],
   "source": [
    "# -*- coding: utf-8 -*-\n",
    "\"\"\"\n",
    "Created on Fri Jun 19 13:11:46 2020\n",
    "\n",
    "@author: Michael\n",
    "\"\"\"\n",
    "# First we import the required libraries\n",
    "import numpy as np\n",
    "import random\n",
    "import matplotlib.pyplot as plt\n",
    "from sklearn.cluster import KMeans"
   ]
  },
  {
   "cell_type": "code",
   "execution_count": 3,
   "metadata": {},
   "outputs": [],
   "source": [
    "########################### CLASS FOR RBF MODEL ###############################\n",
    "\n",
    "# we are going to create a class to create our RBF model + test/train split function\n",
    "class RBF:\n",
    "    def __init__(self, input_data, RBF_clusters, output_labels,sigma):\n",
    "        \n",
    "        # store the input data, and output_labels\n",
    "        self.input_data = input_data\n",
    "        self.output_labels = output_labels\n",
    "        self.clusters = RBF_clusters      \n",
    "        self.sigma = sigma\n",
    "        \n",
    "        # Generate G with the inputs and our clusters\n",
    "        self.G = self.generate_hidden()\n",
    "        \n",
    "        # Generate W with the equation (GTG)-1GT * D\n",
    "        G1 = np.dot(np.transpose(self.G),self.G)\n",
    "        G2 = np.linalg.inv(G1)\n",
    "        G3 = np.dot(G2,np.transpose(self.G))\n",
    "        self.W = np.dot(G3,self.output_labels)\n",
    "\n",
    "    def activation(self,x,g):\n",
    "        return(np.exp(-self.euclidean_distance(x,g)**2/2*self.sigma**2))\n",
    "    \n",
    "    def euclidean_distance(self,p,q):\n",
    "        return(np.sqrt((p[0]-q[0])**2 + (p[1]-q[1])**2))\n",
    "        \n",
    "    def generate_hidden(self):\n",
    "        G = np.zeros([len(self.input_data),len(self.clusters)])\n",
    "        for i in range(len(self.input_data)):\n",
    "            for j in range(len(self.clusters)):\n",
    "                G[i][j] = self.activation(self.input_data[i],self.clusters[j])\n",
    "        return(G)\n",
    "\n",
    "    def predict(self,x_test):\n",
    "        self.input_data = x_test\n",
    "        self.G = self.generate_hidden()\n",
    "        predictions = np.dot(self.G,self.W)\n",
    "        \n",
    "        return(predictions)\n",
    "    \n",
    "    def get_acc(self, y_pred,y):\n",
    "        Accuracy = 0\n",
    "        for x,y in zip(y_pred, y):\n",
    "            if np.argmax(x) == np.argmax(y):\n",
    "                Accuracy = Accuracy + 1\n",
    "        return(Accuracy/len(y_pred)*100)\n",
    "        \n",
    "        \n",
    "    def MSE(self,y_pred,y):\n",
    "        return(((y_pred - y)**2).mean(axis=0)[0])\n",
    "    \n",
    "    def normalize(self,v):\n",
    "        norm = np.linalg.norm(v)\n",
    "        if norm == 0: \n",
    "            return v\n",
    "        return v / norm\n",
    "\n",
    "def test_train_split(train_data,train_labels,Split):\n",
    "    \n",
    "    Train_size = round(len(train_data)*Split)\n",
    "    \n",
    "    # random permutation of the data in order to create a validation/test sets\n",
    "    idx = np.random.permutation(train_data.shape[0])\n",
    "    training_idx, test_idx = idx[:Train_size], idx[Train_size:]\n",
    "    x_train, x_test = train_data[training_idx,:], train_data[test_idx,:]\n",
    "    y_train, y_test = train_labels[training_idx,:], train_labels[test_idx,:]\n",
    "    return(x_train,y_train,x_test, y_test)"
   ]
  },
  {
   "cell_type": "markdown",
   "metadata": {},
   "source": [
    "# PART 1"
   ]
  },
  {
   "cell_type": "code",
   "execution_count": 4,
   "metadata": {},
   "outputs": [],
   "source": [
    "# Set the random seed value and define initial variables\n",
    "\n",
    "random.seed(1)\n",
    "X = []\n",
    "output_labels = np.zeros([441,1])\n",
    "MSE_train = []\n",
    "MSE_test = []"
   ]
  },
  {
   "cell_type": "code",
   "execution_count": 5,
   "metadata": {},
   "outputs": [],
   "source": [
    "## Create dataset using equation from assignment and then shuffle output\n",
    "X = []\n",
    "x = 0\n",
    "for i in range(21):\n",
    "    for j in range(21):\n",
    "        x1 = -2+0.2*i\n",
    "        x2 = -2+0.2*j\n",
    "        X.append([x1,x2])\n",
    "        if((x1**2+x2**2)<=1):\n",
    "            output_labels[x][0] = 1\n",
    "        if((x1**2+x2**2)>1):\n",
    "            output_labels[x][0] = -1\n",
    "        x = x + 1\n",
    "\n",
    "idx = np.random.permutation(len(X))\n",
    "X = np.array(X)[idx]\n",
    "Y = output_labels[idx]"
   ]
  },
  {
   "cell_type": "code",
   "execution_count": 6,
   "metadata": {},
   "outputs": [],
   "source": [
    "# Now create the test/train split of 80/20\n",
    "\n",
    "x_train,y_train,x_test, y_test = test_train_split(X,Y,0.8)"
   ]
  },
  {
   "cell_type": "code",
   "execution_count": 7,
   "metadata": {},
   "outputs": [
    {
     "name": "stdout",
     "output_type": "stream",
     "text": [
      "############   Sigma = 0.1   ############\n",
      "Training data MSE: 1.0879413671028026\n",
      "Training data MSE: 1.003322343882015\n",
      "############   Sigma = 0.2   ############\n",
      "Training data MSE: 1563.7204493514228\n",
      "Training data MSE: 1484.5503482416586\n",
      "############   Sigma = 0.30000000000000004   ############\n",
      "Training data MSE: 636.4781047263913\n",
      "Training data MSE: 576.9095398327377\n",
      "############   Sigma = 0.4   ############\n",
      "Training data MSE: 105.47551982882568\n",
      "Training data MSE: 93.08978851090816\n",
      "############   Sigma = 0.5   ############\n",
      "Training data MSE: 593.9632672782699\n",
      "Training data MSE: 721.8562673255487\n",
      "############   Sigma = 0.6   ############\n",
      "Training data MSE: 118.77754788524658\n",
      "Training data MSE: 153.85625782539825\n",
      "############   Sigma = 0.7000000000000001   ############\n",
      "Training data MSE: 137.78461956472472\n",
      "Training data MSE: 159.89168013160509\n",
      "############   Sigma = 0.8   ############\n",
      "Training data MSE: 385.47208249794045\n",
      "Training data MSE: 398.71654783556966\n",
      "############   Sigma = 0.9   ############\n",
      "Training data MSE: 1110.124347078451\n",
      "Training data MSE: 1269.0186104534157\n",
      "############   Sigma = 1.0   ############\n",
      "Training data MSE: 2588.667206499252\n",
      "Training data MSE: 2860.380926841956\n",
      "############   Sigma = 1.1   ############\n",
      "Training data MSE: 1741.0274808904605\n",
      "Training data MSE: 1666.0565887761156\n",
      "############   Sigma = 1.2000000000000002   ############\n",
      "Training data MSE: 1277.124375575259\n",
      "Training data MSE: 1634.9545699465818\n",
      "############   Sigma = 1.3000000000000003   ############\n",
      "Training data MSE: 525.3941094194756\n",
      "Training data MSE: 476.7601580789911\n",
      "############   Sigma = 1.4000000000000001   ############\n",
      "Training data MSE: 4474.090576820893\n",
      "Training data MSE: 5040.204460786668\n",
      "############   Sigma = 1.5000000000000002   ############\n",
      "Training data MSE: 183.62435113298002\n",
      "Training data MSE: 204.49998587510302\n",
      "############   Sigma = 1.6   ############\n",
      "Training data MSE: 515.6164041398729\n",
      "Training data MSE: 470.6816897215573\n",
      "############   Sigma = 1.7000000000000002   ############\n",
      "Training data MSE: 486.64991697364\n",
      "Training data MSE: 677.0906926584473\n",
      "############   Sigma = 1.8000000000000003   ############\n",
      "Training data MSE: 394.5482496625743\n",
      "Training data MSE: 418.6735260949992\n",
      "############   Sigma = 1.9000000000000001   ############\n",
      "Training data MSE: 469.13331719383996\n",
      "Training data MSE: 399.9797222249485\n",
      "############   Sigma = 2.0   ############\n",
      "Training data MSE: 5873.709360401937\n",
      "Training data MSE: 10357.336984817188\n",
      "############   Sigma = 2.1   ############\n",
      "Training data MSE: 370.7120576644828\n",
      "Training data MSE: 645.6507081663854\n",
      "############   Sigma = 2.2   ############\n",
      "Training data MSE: 1810.2789214431534\n",
      "Training data MSE: 2519.6420141843855\n",
      "############   Sigma = 2.3000000000000003   ############\n",
      "Training data MSE: 51.99058218073529\n",
      "Training data MSE: 68.92033659392354\n",
      "############   Sigma = 2.4000000000000004   ############\n",
      "Training data MSE: 1653.5789178578489\n",
      "Training data MSE: 7877.45640695892\n",
      "############   Sigma = 2.5000000000000004   ############\n",
      "Training data MSE: 8.402219080030564\n",
      "Training data MSE: 23.944478955115564\n",
      "############   Sigma = 2.6   ############\n",
      "Training data MSE: 0.4945642696329266\n",
      "Training data MSE: 11.474877950025682\n",
      "############   Sigma = 2.7   ############\n",
      "Training data MSE: 0.03016725986196158\n",
      "Training data MSE: 13.579188776228035\n",
      "############   Sigma = 2.8000000000000003   ############\n",
      "Training data MSE: 0.1287188088778364\n",
      "Training data MSE: 6.450955498039863\n",
      "############   Sigma = 2.9000000000000004   ############\n",
      "Training data MSE: 0.00021101503569919037\n",
      "Training data MSE: 6.344552906438147\n",
      "############   Sigma = 3.0000000000000004   ############\n",
      "Training data MSE: 9.810513587164114e-06\n",
      "Training data MSE: 5.538432949897281\n",
      "############   Sigma = 3.1   ############\n",
      "Training data MSE: 8.211992029962684e-07\n",
      "Training data MSE: 3.538469992672788\n",
      "############   Sigma = 3.2   ############\n",
      "Training data MSE: 1.4658261233915565e-08\n",
      "Training data MSE: 2.3456543058937083\n",
      "############   Sigma = 3.3000000000000003   ############\n",
      "Training data MSE: 6.495897242623144e-10\n",
      "Training data MSE: 1.6577747105693859\n",
      "############   Sigma = 3.4000000000000004   ############\n",
      "Training data MSE: 4.950249996997635e-11\n",
      "Training data MSE: 1.23025590640709\n",
      "############   Sigma = 3.5000000000000004   ############\n",
      "Training data MSE: 5.361888739962609e-12\n",
      "Training data MSE: 0.9529258758188665\n",
      "############   Sigma = 3.6   ############\n",
      "Training data MSE: 2.3643039690884237e-13\n",
      "Training data MSE: 0.7654428155911309\n",
      "############   Sigma = 3.7   ############\n",
      "Training data MSE: 3.906316093009913e-14\n",
      "Training data MSE: 0.6338950647233343\n",
      "############   Sigma = 3.8000000000000003   ############\n",
      "Training data MSE: 4.077141919164458e-15\n",
      "Training data MSE: 0.5384046631052287\n",
      "############   Sigma = 3.9000000000000004   ############\n",
      "Training data MSE: 6.835001187316861e-16\n",
      "Training data MSE: 0.46693820121017887\n",
      "############   Sigma = 4.0   ############\n",
      "Training data MSE: 1.4947581639855684e-16\n",
      "Training data MSE: 0.4119762315793784\n",
      "############   Sigma = 4.1   ############\n",
      "Training data MSE: 3.385251643092591e-17\n",
      "Training data MSE: 0.3686807638421295\n",
      "############   Sigma = 4.2   ############\n",
      "Training data MSE: 5.757015326959372e-18\n",
      "Training data MSE: 0.33385343694570024\n",
      "############   Sigma = 4.3   ############\n",
      "Training data MSE: 8.568696659860304e-19\n",
      "Training data MSE: 0.305325663161135\n",
      "############   Sigma = 4.3999999999999995   ############\n",
      "Training data MSE: 1.8227297490454438e-19\n",
      "Training data MSE: 0.2815922961204968\n",
      "############   Sigma = 4.5   ############\n",
      "Training data MSE: 3.852144045186753e-20\n",
      "Training data MSE: 0.26158626628952747\n",
      "############   Sigma = 4.6   ############\n",
      "Training data MSE: 1.6231289193433152e-20\n",
      "Training data MSE: 0.24453686686605475\n",
      "############   Sigma = 4.7   ############\n",
      "Training data MSE: 3.5570868637038795e-21\n",
      "Training data MSE: 0.2298786654997519\n",
      "############   Sigma = 4.8   ############\n",
      "Training data MSE: 8.643183185577494e-22\n",
      "Training data MSE: 0.2171916038093663\n",
      "############   Sigma = 4.9   ############\n",
      "Training data MSE: 1.4486682434402533e-22\n",
      "Training data MSE: 0.2061606426852234\n"
     ]
    }
   ],
   "source": [
    "# Now loop through various values of sigma and train the RBF network on the \n",
    "# training data. The output is calculated through predicting both sets where \n",
    "# sigma takes a broad range of values\n",
    "\n",
    "\n",
    "for sigma in np.arange(0.1,5,0.1): \n",
    "    RBF_obj = RBF(x_train,x_train,y_train,sigma)\n",
    "    output_test = RBF_obj.predict(x_test)\n",
    "    output_train = RBF_obj.predict(x_train)\n",
    "    MSE_test.append(RBF_obj.MSE(output_test,y_test))\n",
    "    MSE_train.append(RBF_obj.MSE(output_train,y_train))\n",
    "    print(\"############   Sigma = \" + str(sigma) + \"   ############\")\n",
    "    print(\"Training data MSE: \" + str(RBF_obj.MSE(output_train,y_train)))\n",
    "    print(\"Test data MSE: \" + str(RBF_obj.MSE(output_test,y_test)))"
   ]
  },
  {
   "cell_type": "code",
   "execution_count": 8,
   "metadata": {},
   "outputs": [
    {
     "data": {
      "image/png": "[encoded data removed]",
      "text/plain": [
       "<Figure size 432x288 with 1 Axes>"
      ]
     },
     "metadata": {
      "needs_background": "light"
     },
     "output_type": "display_data"
    },
    {
     "data": {
      "image/png": "[encoded data removed]",
      "text/plain": [
       "<Figure size 432x288 with 1 Axes>"
      ]
     },
     "metadata": {
      "needs_background": "light"
     },
     "output_type": "display_data"
    }
   ],
   "source": [
    "# plot predicted vs actual MSE results as sigma varies for both test/train data\n",
    "\n",
    "# TEST PLOT\n",
    "sigma = np.arange(0.1,5,0.1)\n",
    "fig,ax = plt.subplots()\n",
    "ax.plot(sigma,MSE_test)\n",
    "ax.set(xlabel='Sigma',ylabel='MSE',\n",
    "      title='Test MSE vs. Spread Parameter')\n",
    "ax.grid()\n",
    "\n",
    "fig.savefig(\"Q3_Part1_test.png\")\n",
    "plt.show()\n",
    "\n",
    "# TRAIN PLOT\n",
    "fig,ax = plt.subplots()\n",
    "ax.plot(sigma,MSE_train)\n",
    "ax.set(xlabel='Sigma',ylabel='MSE',\n",
    "      title='Train MSE vs. Spread Parameter')\n",
    "ax.grid()\n",
    "\n",
    "fig.savefig(\"Q3_Part1_train.png\")\n",
    "plt.show()"
   ]
  },
  {
   "cell_type": "code",
   "execution_count": 9,
   "metadata": {},
   "outputs": [
    {
     "data": {
      "image/png": "[encoded data removed]",
      "text/plain": [
       "<Figure size 432x288 with 1 Axes>"
      ]
     },
     "metadata": {
      "needs_background": "light"
     },
     "output_type": "display_data"
    },
    {
     "data": {
      "image/png": "[encoded data removed]",
      "text/plain": [
       "<Figure size 432x288 with 1 Axes>"
      ]
     },
     "metadata": {
      "needs_background": "light"
     },
     "output_type": "display_data"
    }
   ],
   "source": [
    "#=============================================================================\n",
    "# Lets examine the MSE after 2.2 to get a better sense for the transition zone\n",
    "\n",
    "fig,ax = plt.subplots()\n",
    "ax.plot(sigma[26:],MSE_test[26:])\n",
    "ax.set(xlabel='Sigma',ylabel='MSE',\n",
    "      title='Zoomed Test MSE vs. Spread Parameter')\n",
    "ax.grid()\n",
    "\n",
    "fig.savefig(\"Q3_Part1_test_Zoom.png\")\n",
    "plt.show()\n",
    "\n",
    "fig,ax = plt.subplots()\n",
    "ax.plot(sigma[26:],MSE_train[26:])\n",
    "ax.set(xlabel='Sigma',ylabel='MSE',\n",
    "      title='Zoomed Train MSE vs. Spread Parameter')\n",
    "ax.grid()\n",
    "\n",
    "fig.savefig(\"Q3_Part1_train_Zoom.png\")\n",
    "plt.show()"
   ]
  },
  {
   "cell_type": "markdown",
   "metadata": {},
   "source": [
    "# PART 2"
   ]
  },
  {
   "cell_type": "code",
   "execution_count": 10,
   "metadata": {},
   "outputs": [],
   "source": [
    "# Keep sigma at 3.5 from part 1\n",
    "\n",
    "sigma = 3.5"
   ]
  },
  {
   "cell_type": "code",
   "execution_count": 11,
   "metadata": {},
   "outputs": [],
   "source": [
    "# Calculate clusters through random selection\n",
    "Num_Clusters = 150\n",
    "idx = np.random.permutation(len(x_train))[:Num_Clusters]\n",
    "clusters1 = [x_train[i,:] for i in idx]"
   ]
  },
  {
   "cell_type": "code",
   "execution_count": 12,
   "metadata": {},
   "outputs": [],
   "source": [
    "# Calculate clusters through k-means\n",
    "clusters2 = KMeans(n_clusters=Num_Clusters,random_state=1).fit(x_train).cluster_centers_"
   ]
  },
  {
   "cell_type": "code",
   "execution_count": 13,
   "metadata": {},
   "outputs": [],
   "source": [
    "# Create the two models based on random clusters and kmeans clusters\n",
    "\n",
    "RBF_Rand = RBF(x_train,clusters1,y_train,sigma)\n",
    "RBF_Kmeans = RBF(x_train,clusters2,y_train,sigma)"
   ]
  },
  {
   "cell_type": "code",
   "execution_count": 14,
   "metadata": {},
   "outputs": [],
   "source": [
    "# Predict outputs on training data and test data\n",
    "\n",
    "output_Rand_train = RBF_Rand.predict(x_train)\n",
    "output_Kmeans_train = RBF_Kmeans.predict(x_train)\n",
    "\n",
    "output_Rand_test = RBF_Rand.predict(x_test)\n",
    "output_Kmeans_test = RBF_Kmeans.predict(x_test)"
   ]
  },
  {
   "cell_type": "code",
   "execution_count": 15,
   "metadata": {},
   "outputs": [
    {
     "name": "stdout",
     "output_type": "stream",
     "text": [
      "Random Cluster Selection Train MSE:  0.034689420141545434\n",
      "K-means Cluster Selection Train MSE:  0.038244310235191724\n",
      "Random Cluster Selection Test MSE:  0.11899626971729446\n",
      "K-means Cluster Selection Test MSE:  0.12664191839628777\n"
     ]
    }
   ],
   "source": [
    "# Calculate MSE for outputs\n",
    "\n",
    "MSE_Rand_train = RBF_Rand.MSE(output_Rand_train,y_train)\n",
    "MSE_Kmeans_train = RBF_Kmeans.MSE(output_Kmeans_train,y_train)\n",
    "\n",
    "MSE_Rand_test = RBF_Rand.MSE(output_Rand_test,y_test)\n",
    "MSE_Kmeans_test = RBF_Kmeans.MSE(output_Kmeans_test,y_test)\n",
    "\n",
    "print(\"Random Cluster Selection Train MSE: \", MSE_Rand_train)\n",
    "print(\"K-means Cluster Selection Train MSE: \", MSE_Kmeans_train)\n",
    "\n",
    "print(\"Random Cluster Selection Test MSE: \", MSE_Rand_test)\n",
    "print(\"K-means Cluster Selection Test MSE: \", MSE_Kmeans_test)"
   ]
  },
  {
   "cell_type": "code",
   "execution_count": null,
   "metadata": {},
   "outputs": [],
   "source": [
    "# Now vary sigma again, and create multiple models just to further compare the two methods\n",
    "\n",
    "MSE_train_rand = []\n",
    "MSE_train_kmeans = []\n",
    "MSE_test_rand = []\n",
    "MSE_test_kmeans = []\n",
    "\n",
    "for sigma in np.arange(0.5,3.5,0.1): \n",
    "    RBF_Rand = RBF(x_train,clusters1,y_train,sigma)\n",
    "    RBF_Kmeans = RBF(x_train,clusters2,y_train,sigma)\n",
    "\n",
    "    output_Rand_train = RBF_Rand.predict(x_train)\n",
    "    output_Kmeans_train = RBF_Kmeans.predict(x_train)\n",
    "    \n",
    "    output_Rand_test = RBF_Rand.predict(x_test)\n",
    "    output_Kmeans_test = RBF_Kmeans.predict(x_test)\n",
    "\n",
    "    MSE_train_rand.append(RBF_Rand.MSE(output_Rand_train,y_train))\n",
    "    MSE_train_kmeans.append(RBF_Kmeans.MSE(output_Kmeans_train,y_train))\n",
    "    \n",
    "    MSE_test_rand.append(RBF_Rand.MSE(output_Rand_test,y_test))\n",
    "    MSE_test_kmeans.append(RBF_Kmeans.MSE(output_Kmeans_test,y_test))"
   ]
  },
  {
   "cell_type": "code",
   "execution_count": null,
   "metadata": {},
   "outputs": [],
   "source": [
    "# Plot training results\n",
    "\n",
    "sigma = np.arange(0.5,3.5,0.1)\n",
    "fig,ax = plt.subplots()\n",
    "ax.plot(sigma,MSE_train_rand)\n",
    "ax.plot(sigma,MSE_train_kmeans)\n",
    "ax.set(xlabel='Sigma',ylabel='MSE',\n",
    "      title='Training MSE vs. Spread Parameter')\n",
    "ax.grid()\n",
    "\n",
    "fig.savefig(\"Q3_Part2_Train.png\")\n",
    "plt.show()"
   ]
  },
  {
   "cell_type": "code",
   "execution_count": null,
   "metadata": {},
   "outputs": [],
   "source": [
    "# Plot test results\n",
    "\n",
    "sigma = np.arange(0.5,3.5,0.1)\n",
    "fig,ax = plt.subplots()\n",
    "ax.plot(sigma,MSE_test_rand)\n",
    "ax.plot(sigma,MSE_test_kmeans)\n",
    "ax.set(xlabel='Sigma',ylabel='MSE',\n",
    "      title='Testing MSE vs. Spread Parameter')\n",
    "ax.grid()\n",
    "\n",
    "fig.savefig(\"Q3_Part2_Test.png\")\n",
    "plt.show()"
   ]
  },
  {
   "cell_type": "code",
   "execution_count": null,
   "metadata": {},
   "outputs": [],
   "source": []
  }
 ],
 "metadata": {
  "kernelspec": {
   "display_name": "Python 3",
   "language": "python",
   "name": "python3"
  },
  "language_info": {
   "codemirror_mode": {
    "name": "ipython",
    "version": 3
   },
   "file_extension": ".py",
   "mimetype": "text/x-python",
   "name": "python",
   "nbconvert_exporter": "python",
   "pygments_lexer": "ipython3",
   "version": "3.7.4"
  }
 },
 "nbformat": 4,
 "nbformat_minor": 2
}
